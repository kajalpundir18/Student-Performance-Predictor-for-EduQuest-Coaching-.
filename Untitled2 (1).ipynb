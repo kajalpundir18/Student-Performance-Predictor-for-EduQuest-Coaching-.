{
  "nbformat": 4,
  "nbformat_minor": 0,
  "metadata": {
    "colab": {
      "provenance": [],
      "toc_visible": true
    },
    "kernelspec": {
      "name": "python3",
      "display_name": "Python 3"
    },
    "language_info": {
      "name": "python"
    }
  },
  "cells": [
    {
      "cell_type": "code",
      "execution_count": null,
      "metadata": {
        "id": "vDvgeYEz0Fg_"
      },
      "outputs": [],
      "source": [
        "import pandas as pd\n",
        "df = pd.read_excel(\"/content/Student Performance Predictor for EduQuest Coaching.xlsx\")"
      ]
    },
    {
      "cell_type": "code",
      "source": [
        "import pandas as pd\n",
        "import numpy as np\n",
        "from sklearn.model_selection import train_test_split\n",
        "from sklearn.ensemble import RandomForestRegressor\n",
        "from sklearn.preprocessing import LabelEncoder\n",
        "from sklearn.metrics import mean_squared_error, r2_score\n",
        "import joblib\n",
        "\n",
        "# 1. Load Dataset\n",
        "# Using the DataFrame 'df' loaded from the Excel file\n",
        "data = df.copy() # Make a copy to avoid modifying the original df if needed later\n",
        "\n",
        "# 2. Data Preprocessing\n",
        "# Handle missing values in 'extra_curricular_involvement'\n",
        "data['extra_curricular_involvement'] = data['extra_curricular_involvement'].fillna('Unknown')\n",
        "\n",
        "\n",
        "# Encode categorical features\n",
        "categorical_cols = ['gender', 'parental_education', 'internet_access', 'extra_curricular_involvement', 'tutor_support']\n",
        "for col in categorical_cols:\n",
        "    if data[col].dtype == 'object':\n",
        "        le = LabelEncoder()\n",
        "        data[col] = le.fit_transform(data[col])\n",
        "\n",
        "# 3. Feature Selection\n",
        "X = data.drop('final_exam_score', axis=1) # Assuming 'final_exam_score' is the target\n",
        "y = data['final_exam_score']\n",
        "\n",
        "# 4. Train-Test Split\n",
        "X_train, X_test, y_train, y_test = train_test_split(\n",
        "    X, y, test_size=0.2, random_state=42\n",
        ")\n",
        "\n",
        "# 5. Train Model\n",
        "model = RandomForestRegressor(n_estimators=100, random_state=42)\n",
        "model.fit(X_train, y_train)\n",
        "\n",
        "# 6. Predict and Evaluate\n",
        "y_pred = model.predict(X_test)\n",
        "print(\"R2 Score:\", r2_score(y_test, y_pred))\n",
        "print(\"Mean Squared Error:\", mean_squared_error(y_test, y_pred))\n",
        "\n",
        "# 7. Save the Model\n",
        "joblib.dump(model, 'student_performance_model.pkl')\n",
        "print(\"Model saved as student_performance_model.pkl\")"
      ],
      "metadata": {
        "colab": {
          "base_uri": "https://localhost:8080/"
        },
        "id": "pbHWDyRv21GT",
        "outputId": "32bd605c-69c6-428f-868b-541cc613ea17"
      },
      "execution_count": null,
      "outputs": [
        {
          "output_type": "stream",
          "name": "stdout",
          "text": [
            "R2 Score: 0.6891309195044395\n",
            "Mean Squared Error: 41.5530852195\n",
            "Model saved as student_performance_model.pkl\n"
          ]
        }
      ]
    }
  ]
}